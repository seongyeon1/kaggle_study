{
 "cells": [
  {
   "cell_type": "code",
   "execution_count": 5,
   "id": "aece7bb4",
   "metadata": {},
   "outputs": [],
   "source": [
    "#!pip install seaborn\n",
    "#!pip install missingno"
   ]
  },
  {
   "cell_type": "code",
   "execution_count": 6,
   "id": "d7ee1265",
   "metadata": {},
   "outputs": [],
   "source": [
    "import numpy as np\n",
    "import pandas as pd\n",
    "import matplotlib.pyplot as plt\n",
    "import seaborn as sns\n",
    "\n",
    "plt.style.use('seaborn')\n",
    "sns.set(font_scale=2.5)\n",
    "\n",
    "import missingno as msno\n",
    "\n",
    "#ignore warnings\n",
    "import warnings\n",
    "warnings.filterwarnings('ignore')\n",
    "\n",
    "%matplotlib inline"
   ]
  },
  {
   "cell_type": "markdown",
   "id": "c1964468",
   "metadata": {},
   "source": [
    "1. Dataset 확인\n",
    "2. 탐색적 데이터 분석(exploratory data analysis)\n",
    "3. Feature engineering\n",
    "4. Model 만들기\n",
    "5. 모델 학습 및 예측\n",
    "6. 모델 평가"
   ]
  },
  {
   "cell_type": "markdown",
   "id": "cae0f41b",
   "metadata": {},
   "source": [
    "## 1. Dataset 확인"
   ]
  },
  {
   "cell_type": "code",
   "execution_count": null,
   "id": "2469b95a",
   "metadata": {},
   "outputs": [],
   "source": [
    "df_train = pd.read_csv('/input/train.csv')"
   ]
  }
 ],
 "metadata": {
  "kernelspec": {
   "display_name": "Python 3 (ipykernel)",
   "language": "python",
   "name": "python3"
  },
  "language_info": {
   "codemirror_mode": {
    "name": "ipython",
    "version": 3
   },
   "file_extension": ".py",
   "mimetype": "text/x-python",
   "name": "python",
   "nbconvert_exporter": "python",
   "pygments_lexer": "ipython3",
   "version": "3.10.4"
  }
 },
 "nbformat": 4,
 "nbformat_minor": 5
}
